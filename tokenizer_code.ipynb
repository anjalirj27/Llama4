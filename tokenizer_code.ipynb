{
  "nbformat": 4,
  "nbformat_minor": 0,
  "metadata": {
    "colab": {
      "provenance": [],
      "include_colab_link": true
    },
    "kernelspec": {
      "name": "python3",
      "display_name": "Python 3"
    },
    "language_info": {
      "name": "python"
    }
  },
  "cells": [
    {
      "cell_type": "markdown",
      "metadata": {
        "id": "view-in-github",
        "colab_type": "text"
      },
      "source": [
        "<a href=\"https://colab.research.google.com/github/anjalirj27/Llama4/blob/main/tokenizer_code.ipynb\" target=\"_parent\"><img src=\"https://colab.research.google.com/assets/colab-badge.svg\" alt=\"Open In Colab\"/></a>"
      ]
    },
    {
      "cell_type": "code",
      "execution_count": null,
      "metadata": {
        "colab": {
          "base_uri": "https://localhost:8080/"
        },
        "id": "hQ4xFmTE1Tso",
        "outputId": "ccf3244e-a886-4028-af95-c0ca3048d88b"
      },
      "outputs": [
        {
          "output_type": "stream",
          "name": "stdout",
          "text": [
            "Cloning into 'Llama4'...\n",
            "warning: You appear to have cloned an empty repository.\n",
            "/content/Llama4/Llama4/Llama4/Llama4/Llama4\n"
          ]
        }
      ],
      "source": [
        "!git clone https://github.com/anjalirj27/Llama4.git\n",
        "%cd Llama4"
      ]
    },
    {
      "cell_type": "code",
      "source": [
        "corpus = [\n",
        "    \"This is the first documnet.\",\n",
        "    \"This document is the second document.\",\n",
        "    \"And this is the third one.\",\n",
        "    \"Is this the first document?\",\n",
        "]"
      ],
      "metadata": {
        "id": "o8QTnSiJ1tqn"
      },
      "execution_count": null,
      "outputs": []
    },
    {
      "cell_type": "code",
      "source": [
        "print(\"Training Corpus:\")\n",
        "for doc in corpus:\n",
        "  print(doc)"
      ],
      "metadata": {
        "colab": {
          "base_uri": "https://localhost:8080/"
        },
        "id": "I1s0jp3q29JJ",
        "outputId": "89166a06-3070-4659-890c-49234814c1e5"
      },
      "execution_count": null,
      "outputs": [
        {
          "output_type": "stream",
          "name": "stdout",
          "text": [
            "Training Corpus:\n",
            "This is the first documnet.\n",
            "This document is the second document.\n",
            "And this is the third one.\n",
            "Is this the first document?\n"
          ]
        }
      ]
    },
    {
      "cell_type": "code",
      "source": [
        "unique_chars = set()\n",
        "for doc in corpus:\n",
        "  for char in doc:\n",
        "    unique_chars.add(char)"
      ],
      "metadata": {
        "id": "UsfuyKig3BUW"
      },
      "execution_count": null,
      "outputs": []
    },
    {
      "cell_type": "code",
      "source": [
        "vocab = list(unique_chars)"
      ],
      "metadata": {
        "id": "TOt8tLKd3nVA"
      },
      "execution_count": null,
      "outputs": []
    },
    {
      "cell_type": "code",
      "source": [
        "print(vocab)"
      ],
      "metadata": {
        "colab": {
          "base_uri": "https://localhost:8080/"
        },
        "id": "llgrW5fV3thZ",
        "outputId": "5f331a15-a01c-401d-dba2-1193edc4a688"
      },
      "execution_count": null,
      "outputs": [
        {
          "output_type": "stream",
          "name": "stdout",
          "text": [
            "['.', 'o', 'h', 't', 'I', '?', 'e', 'i', 'u', 'f', 'n', ' ', 'A', 's', 'c', 'r', 'T', 'm', 'd']\n"
          ]
        }
      ]
    },
    {
      "cell_type": "code",
      "source": [
        "vocab.sort()\n",
        "print(vocab)"
      ],
      "metadata": {
        "colab": {
          "base_uri": "https://localhost:8080/"
        },
        "id": "WJmCTTsH3vQQ",
        "outputId": "c0b32ee9-b51e-4776-badc-dc1fedc303ce"
      },
      "execution_count": null,
      "outputs": [
        {
          "output_type": "stream",
          "name": "stdout",
          "text": [
            "[' ', '.', '?', 'A', 'I', 'T', 'c', 'd', 'e', 'f', 'h', 'i', 'm', 'n', 'o', 'r', 's', 't', 'u']\n"
          ]
        }
      ]
    },
    {
      "cell_type": "code",
      "source": [
        "end_of_word = \"</w\"\n",
        "vocab.append(end_of_word)"
      ],
      "metadata": {
        "id": "HEWHfsKR32oy"
      },
      "execution_count": null,
      "outputs": []
    },
    {
      "cell_type": "code",
      "source": [
        "print(\"Initial Vocabulary:\")\n",
        "print(vocab)\n",
        "print(f\"Vocabulary Size: {len(vocab)}\")"
      ],
      "metadata": {
        "colab": {
          "base_uri": "https://localhost:8080/"
        },
        "id": "loatamsh4W-4",
        "outputId": "5dc1d70f-9554-40bb-e686-76b4064a99cd"
      },
      "execution_count": null,
      "outputs": [
        {
          "output_type": "stream",
          "name": "stdout",
          "text": [
            "Initial Vocabulary:\n",
            "[' ', '.', '?', 'A', 'I', 'T', 'c', 'd', 'e', 'f', 'h', 'i', 'm', 'n', 'o', 'r', 's', 't', 'u', '</w']\n",
            "Vocabulary Size: 20\n"
          ]
        }
      ]
    },
    {
      "cell_type": "code",
      "source": [
        "word_splits = {}\n",
        "for doc in corpus:\n",
        "  words = doc.split(' ')\n",
        "  for word in words:\n",
        "    if word:\n",
        "      char_list = list(word) + [end_of_word]\n",
        "      word_tuple = tuple(char_list)\n",
        "      if word_tuple not in word_splits:\n",
        "        word_splits[word_tuple] = 0\n",
        "      word_splits[word_tuple] += 1\n",
        "\n",
        "print(\"\\nPre-tokenized Word Frequencies\")\n",
        "print(word_splits)"
      ],
      "metadata": {
        "colab": {
          "base_uri": "https://localhost:8080/"
        },
        "id": "wcbyflOa4q4h",
        "outputId": "4b71e576-215a-4807-d0de-dc2ed4826e01"
      },
      "execution_count": null,
      "outputs": [
        {
          "output_type": "stream",
          "name": "stdout",
          "text": [
            "\n",
            "Pre-tokenized Word Frequencies\n",
            "{('T', 'h', 'i', 's', '</w'): 2, ('i', 's', '</w'): 3, ('t', 'h', 'e', '</w'): 4, ('f', 'i', 'r', 's', 't', '</w'): 2, ('d', 'o', 'c', 'u', 'm', 'n', 'e', 't', '.', '</w'): 1, ('d', 'o', 'c', 'u', 'm', 'e', 'n', 't', '</w'): 1, ('s', 'e', 'c', 'o', 'n', 'd', '</w'): 1, ('d', 'o', 'c', 'u', 'm', 'e', 'n', 't', '.', '</w'): 1, ('A', 'n', 'd', '</w'): 1, ('t', 'h', 'i', 's', '</w'): 2, ('t', 'h', 'i', 'r', 'd', '</w'): 1, ('o', 'n', 'e', '.', '</w'): 1, ('I', 's', '</w'): 1, ('d', 'o', 'c', 'u', 'm', 'e', 'n', 't', '?', '</w'): 1}\n"
          ]
        }
      ]
    },
    {
      "cell_type": "code",
      "source": [
        "word_tuple"
      ],
      "metadata": {
        "colab": {
          "base_uri": "https://localhost:8080/"
        },
        "id": "yidc74Y5bw6l",
        "outputId": "82d6338e-c112-4050-bdb6-790394a39e38"
      },
      "execution_count": null,
      "outputs": [
        {
          "output_type": "execute_result",
          "data": {
            "text/plain": [
              "('d', 'o', 'c', 'u', 'm', 'e', 'n', 't', '?', '</w')"
            ]
          },
          "metadata": {},
          "execution_count": 106
        }
      ]
    },
    {
      "cell_type": "code",
      "source": [
        "import collections"
      ],
      "metadata": {
        "id": "2o7QCANz_Wd_"
      },
      "execution_count": null,
      "outputs": []
    },
    {
      "cell_type": "code",
      "source": [
        "def get_pair_stats(splits):\n",
        "  \"\"\"Counts the frequency of adjacent pairs in the word splits.\"\"\"\n",
        "  pair_counts = collections.defaultdict(int)\n",
        "  for word_tuple, freq in splits.items():\n",
        "    symbols = list(word_tuple)\n",
        "    for i in range(len(symbols) - 1):\n",
        "      pair = (symbols[i], symbols[i+1])\n",
        "      pair_counts[pair] += freq\n",
        "    return pair_counts"
      ],
      "metadata": {
        "id": "C19ygU_d_Y5R"
      },
      "execution_count": null,
      "outputs": []
    },
    {
      "cell_type": "code",
      "source": [
        "def merge_pair(pair_to_merge, splits):\n",
        "  \"\"\"Merges the specified pair in the word splits \"\"\"\n",
        "  new_splits = {}\n",
        "  (first, second) = pair_to_merge\n",
        "  merged_token = first + second\n",
        "  for word_tuple, freq in splits.items():\n",
        "    symbols = list(word_tuple)\n",
        "    new_symbols = []\n",
        "    i = 0\n",
        "    while i< len(symbols):\n",
        "      #if the current and next symbol match and the pair to merge\n",
        "      if i < len(symbols) - 1 and symbols[i] == first and symbols[i+1] == second:\n",
        "        new_symbols.append(merged_token)\n",
        "        i+=2 #skip the next symbol\n",
        "      else:\n",
        "        new_symbols.append(symbols[i])\n",
        "        i+= 1\n",
        "      new_splits[tuple(new_symbols)] = freq #use updated symbol list as the key\n",
        "    return new_splits"
      ],
      "metadata": {
        "id": "yUGY1KBnAXo6"
      },
      "execution_count": null,
      "outputs": []
    },
    {
      "cell_type": "code",
      "source": [
        "num_merges = 15"
      ],
      "metadata": {
        "id": "i13ojD_HixWm"
      },
      "execution_count": null,
      "outputs": []
    },
    {
      "cell_type": "code",
      "source": [
        "merges = {}"
      ],
      "metadata": {
        "id": "W0XwAnBOhIXz"
      },
      "execution_count": null,
      "outputs": []
    },
    {
      "cell_type": "code",
      "source": [
        "current_splits = word_splits.copy()"
      ],
      "metadata": {
        "id": "6G-orYgghMC0"
      },
      "execution_count": null,
      "outputs": []
    },
    {
      "cell_type": "code",
      "source": [
        "print(\"\\n------------> Starting BPE Merges --------->\")\n",
        "print(f\"Initial Word Splits: {current_splits}\")\n",
        "print(\"-\"*35)"
      ],
      "metadata": {
        "colab": {
          "base_uri": "https://localhost:8080/"
        },
        "id": "0MO9nczGhT5F",
        "outputId": "b4e88a98-44af-4f2d-c356-be7e5ab91f59"
      },
      "execution_count": null,
      "outputs": [
        {
          "output_type": "stream",
          "name": "stdout",
          "text": [
            "\n",
            "------------> Starting BPE Merges --------->\n",
            "Initial Word Splits: {('T', 'h', 'i', 's', '</w'): 2, ('i', 's', '</w'): 3, ('t', 'h', 'e', '</w'): 4, ('f', 'i', 'r', 's', 't', '</w'): 2, ('d', 'o', 'c', 'u', 'm', 'n', 'e', 't', '.', '</w'): 1, ('d', 'o', 'c', 'u', 'm', 'e', 'n', 't', '</w'): 1, ('s', 'e', 'c', 'o', 'n', 'd', '</w'): 1, ('d', 'o', 'c', 'u', 'm', 'e', 'n', 't', '.', '</w'): 1, ('A', 'n', 'd', '</w'): 1, ('t', 'h', 'i', 's', '</w'): 2, ('t', 'h', 'i', 'r', 'd', '</w'): 1, ('o', 'n', 'e', '.', '</w'): 1, ('I', 's', '</w'): 1, ('d', 'o', 'c', 'u', 'm', 'e', 'n', 't', '?', '</w'): 1}\n",
            "-----------------------------------\n"
          ]
        }
      ]
    },
    {
      "cell_type": "code",
      "source": [
        "for i in range(num_merges):\n",
        "  print(f\"\\nMerge Iteration {i+1}/{num_merges}\")\n",
        "\n",
        "  #calculate pair frequencies ---> Step 1.\n",
        "  pair_stats = get_pair_stats(current_splits)\n",
        "  if not pair_stats:\n",
        "    break\n",
        "  #Print top 7 pairs for inspection (Optional)\n",
        "  sorted_pairs = sorted(pair_stats.items(), key = lambda item: item[1], reverse = True)\n",
        "  print(f\"Top 7 pairs: {sorted_pairs[:7]}\")"
      ],
      "metadata": {
        "colab": {
          "base_uri": "https://localhost:8080/"
        },
        "id": "NoT-ifM7hqc9",
        "outputId": "f04a38aa-99b4-4725-a5c8-237c908811a5"
      },
      "execution_count": null,
      "outputs": [
        {
          "output_type": "stream",
          "name": "stdout",
          "text": [
            "\n",
            "Merge Iteration 1/15\n",
            "Top 7 pairs: [(('T', 'h'), 2), (('h', 'i'), 2), (('i', 's'), 2), (('s', '</w'), 2)]\n",
            "\n",
            "Merge Iteration 2/15\n",
            "Top 7 pairs: [(('T', 'h'), 2), (('h', 'i'), 2), (('i', 's'), 2), (('s', '</w'), 2)]\n",
            "\n",
            "Merge Iteration 3/15\n",
            "Top 7 pairs: [(('T', 'h'), 2), (('h', 'i'), 2), (('i', 's'), 2), (('s', '</w'), 2)]\n",
            "\n",
            "Merge Iteration 4/15\n",
            "Top 7 pairs: [(('T', 'h'), 2), (('h', 'i'), 2), (('i', 's'), 2), (('s', '</w'), 2)]\n",
            "\n",
            "Merge Iteration 5/15\n",
            "Top 7 pairs: [(('T', 'h'), 2), (('h', 'i'), 2), (('i', 's'), 2), (('s', '</w'), 2)]\n",
            "\n",
            "Merge Iteration 6/15\n",
            "Top 7 pairs: [(('T', 'h'), 2), (('h', 'i'), 2), (('i', 's'), 2), (('s', '</w'), 2)]\n",
            "\n",
            "Merge Iteration 7/15\n",
            "Top 7 pairs: [(('T', 'h'), 2), (('h', 'i'), 2), (('i', 's'), 2), (('s', '</w'), 2)]\n",
            "\n",
            "Merge Iteration 8/15\n",
            "Top 7 pairs: [(('T', 'h'), 2), (('h', 'i'), 2), (('i', 's'), 2), (('s', '</w'), 2)]\n",
            "\n",
            "Merge Iteration 9/15\n",
            "Top 7 pairs: [(('T', 'h'), 2), (('h', 'i'), 2), (('i', 's'), 2), (('s', '</w'), 2)]\n",
            "\n",
            "Merge Iteration 10/15\n",
            "Top 7 pairs: [(('T', 'h'), 2), (('h', 'i'), 2), (('i', 's'), 2), (('s', '</w'), 2)]\n",
            "\n",
            "Merge Iteration 11/15\n",
            "Top 7 pairs: [(('T', 'h'), 2), (('h', 'i'), 2), (('i', 's'), 2), (('s', '</w'), 2)]\n",
            "\n",
            "Merge Iteration 12/15\n",
            "Top 7 pairs: [(('T', 'h'), 2), (('h', 'i'), 2), (('i', 's'), 2), (('s', '</w'), 2)]\n",
            "\n",
            "Merge Iteration 13/15\n",
            "Top 7 pairs: [(('T', 'h'), 2), (('h', 'i'), 2), (('i', 's'), 2), (('s', '</w'), 2)]\n",
            "\n",
            "Merge Iteration 14/15\n",
            "Top 7 pairs: [(('T', 'h'), 2), (('h', 'i'), 2), (('i', 's'), 2), (('s', '</w'), 2)]\n",
            "\n",
            "Merge Iteration 15/15\n",
            "Top 7 pairs: [(('T', 'h'), 2), (('h', 'i'), 2), (('i', 's'), 2), (('s', '</w'), 2)]\n"
          ]
        }
      ]
    },
    {
      "cell_type": "code",
      "source": [
        "#Find best pair ---> Step 2.\n",
        "best_pair = max(pair_stats, key = pair_stats.get)\n",
        "best_freq = pair_stats[best_pair]\n",
        "print(f\"Found Best Pair: {best_pair} with frequency: {best_freq}\")"
      ],
      "metadata": {
        "colab": {
          "base_uri": "https://localhost:8080/"
        },
        "id": "1qQJzzJJisxg",
        "outputId": "c0a29081-fc67-49fc-c210-85a220db2fba"
      },
      "execution_count": null,
      "outputs": [
        {
          "output_type": "stream",
          "name": "stdout",
          "text": [
            "Found Best Pair: ('T', 'h') with frequency: 2\n"
          ]
        }
      ]
    },
    {
      "cell_type": "code",
      "source": [
        "current_splits"
      ],
      "metadata": {
        "colab": {
          "base_uri": "https://localhost:8080/"
        },
        "id": "fMn_Iho7jq7_",
        "outputId": "b5999419-aa3d-4214-e95b-d2e4387c3181"
      },
      "execution_count": null,
      "outputs": [
        {
          "output_type": "execute_result",
          "data": {
            "text/plain": [
              "{('T', 'h', 'i', 's', '</w'): 2,\n",
              " ('i', 's', '</w'): 3,\n",
              " ('t', 'h', 'e', '</w'): 4,\n",
              " ('f', 'i', 'r', 's', 't', '</w'): 2,\n",
              " ('d', 'o', 'c', 'u', 'm', 'n', 'e', 't', '.', '</w'): 1,\n",
              " ('d', 'o', 'c', 'u', 'm', 'e', 'n', 't', '</w'): 1,\n",
              " ('s', 'e', 'c', 'o', 'n', 'd', '</w'): 1,\n",
              " ('d', 'o', 'c', 'u', 'm', 'e', 'n', 't', '.', '</w'): 1,\n",
              " ('A', 'n', 'd', '</w'): 1,\n",
              " ('t', 'h', 'i', 's', '</w'): 2,\n",
              " ('t', 'h', 'i', 'r', 'd', '</w'): 1,\n",
              " ('o', 'n', 'e', '.', '</w'): 1,\n",
              " ('I', 's', '</w'): 1,\n",
              " ('d', 'o', 'c', 'u', 'm', 'e', 'n', 't', '?', '</w'): 1}"
            ]
          },
          "metadata": {},
          "execution_count": 116
        }
      ]
    },
    {
      "cell_type": "code",
      "source": [
        "#Merge the Best Pair -->Step 3.\n",
        "current_splits = merge_pair(best_pair, current_splits)\n",
        "new_token = best_pair[0] + best_pair[1]\n",
        "print(f\"Merging {best_pair} into '{new_token}'\")\n",
        "print(f\"Splits after merge: {current_splits}\")"
      ],
      "metadata": {
        "colab": {
          "base_uri": "https://localhost:8080/"
        },
        "id": "iWWQEiukjaPD",
        "outputId": "9c589194-b868-49c7-ef64-6397bc53f949"
      },
      "execution_count": null,
      "outputs": [
        {
          "output_type": "stream",
          "name": "stdout",
          "text": [
            "Merging ('T', 'h') into 'Th'\n",
            "Splits after merge: {('Th',): 2, ('Th', 'i'): 2, ('Th', 'i', 's'): 2, ('Th', 'i', 's', '</w'): 2}\n"
          ]
        }
      ]
    },
    {
      "cell_type": "code",
      "source": [
        "#Vocab Updation ---->Step 3.\n",
        "vocab.append(new_token)\n",
        "print(f\"Updated Vocabulary: {vocab}\")"
      ],
      "metadata": {
        "colab": {
          "base_uri": "https://localhost:8080/"
        },
        "id": "Ikn44rYOkG56",
        "outputId": "66e7f283-ba64-4d42-adfc-4bd76acec795"
      },
      "execution_count": null,
      "outputs": [
        {
          "output_type": "stream",
          "name": "stdout",
          "text": [
            "Updated Vocabulary: [' ', '.', '?', 'A', 'I', 'T', 'c', 'd', 'e', 'f', 'h', 'i', 'm', 'n', 'o', 'r', 's', 't', 'u', '</w', 'Th']\n"
          ]
        }
      ]
    },
    {
      "cell_type": "code",
      "source": [
        "#Store Merge Rule ---->Step 5\n",
        "merges[best_pair] = new_token\n",
        "print(f\"Updated Merges: {merges}\")\n",
        "print('-'*50)"
      ],
      "metadata": {
        "colab": {
          "base_uri": "https://localhost:8080/"
        },
        "id": "3R0pLPpCl1a-",
        "outputId": "7ca7cd2b-7937-459b-8413-fd31641aeb3e"
      },
      "execution_count": null,
      "outputs": [
        {
          "output_type": "stream",
          "name": "stdout",
          "text": [
            "Updated Merges: {('T', 'h'): 'Th'}\n",
            "--------------------------------------------------\n"
          ]
        }
      ]
    },
    {
      "cell_type": "code",
      "source": [
        "print(\"\\n-------------- BPE Merges Completed ---------------------\")\n",
        "print(f\"Final Vocabulary Size: {len(vocab)}\")"
      ],
      "metadata": {
        "colab": {
          "base_uri": "https://localhost:8080/"
        },
        "id": "SAGPnHclmX3T",
        "outputId": "0032ac34-3fb4-4dcb-a786-8a8346d0a44b"
      },
      "execution_count": null,
      "outputs": [
        {
          "output_type": "stream",
          "name": "stdout",
          "text": [
            "\n",
            "-------------- BPE Merges Completed ---------------------\n",
            "Final Vocabulary Size: 21\n"
          ]
        }
      ]
    },
    {
      "cell_type": "code",
      "source": [
        "#Pretty print merges\n",
        "for pair, token in merges.items():\n",
        "  print(f\"{pair} -> '{token}\")"
      ],
      "metadata": {
        "colab": {
          "base_uri": "https://localhost:8080/"
        },
        "id": "eDpb7WBJmu4v",
        "outputId": "f1283d7e-b482-410b-a0eb-f3754913f13d"
      },
      "execution_count": null,
      "outputs": [
        {
          "output_type": "stream",
          "name": "stdout",
          "text": [
            "('T', 'h') -> 'Th\n"
          ]
        }
      ]
    },
    {
      "cell_type": "code",
      "source": [
        "print(\"\\nFinal Word Splits after all merges:\")\n",
        "print(current_splits)"
      ],
      "metadata": {
        "colab": {
          "base_uri": "https://localhost:8080/"
        },
        "id": "1U5DoBK6m-GI",
        "outputId": "5fc7b096-b2b1-4d44-973a-786ab37f0bac"
      },
      "execution_count": null,
      "outputs": [
        {
          "output_type": "stream",
          "name": "stdout",
          "text": [
            "\n",
            "Final Word Splits after all merges:\n",
            "{('Th',): 2, ('Th', 'i'): 2, ('Th', 'i', 's'): 2, ('Th', 'i', 's', '</w'): 2}\n"
          ]
        }
      ]
    },
    {
      "cell_type": "code",
      "source": [
        "print(\"\\nFinal vcabulary (Sorted):\")\n",
        "final_vocab_sorted = sorted(list(set(vocab)))\n",
        "print(final_vocab_sorted)"
      ],
      "metadata": {
        "colab": {
          "base_uri": "https://localhost:8080/"
        },
        "id": "Taye9CWxnHt9",
        "outputId": "93c95908-233b-4742-efe4-d0bd1a47044c"
      },
      "execution_count": null,
      "outputs": [
        {
          "output_type": "stream",
          "name": "stdout",
          "text": [
            "\n",
            "Final vcabulary (Sorted):\n",
            "[' ', '.', '</w', '?', 'A', 'I', 'T', 'Th', 'c', 'd', 'e', 'f', 'h', 'i', 'm', 'n', 'o', 'r', 's', 't', 'u']\n"
          ]
        }
      ]
    }
  ]
}